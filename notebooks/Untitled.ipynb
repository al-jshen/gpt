{
 "cells": [
  {
   "cell_type": "code",
   "execution_count": 1,
   "id": "4e00718f-0ca6-4e42-816c-7bc322aa9eed",
   "metadata": {},
   "outputs": [],
   "source": [
    "%load_ext autoreload"
   ]
  },
  {
   "cell_type": "code",
   "execution_count": 159,
   "id": "6ceacbe4-4305-494a-956a-29c966820f5e",
   "metadata": {},
   "outputs": [],
   "source": [
    "%autoreload\n",
    "import torch\n",
    "import matplotlib.pyplot as plt\n",
    "from gpt.data import MNISTDataModule, CIFAR10DataModule\n",
    "from collections import Counter\n",
    "from torch.utils.data import Subset, DataLoader"
   ]
  },
  {
   "cell_type": "code",
   "execution_count": 165,
   "id": "fd65359f-1f98-4f21-ad28-bd4ac4a88138",
   "metadata": {},
   "outputs": [],
   "source": [
    "mnist = CIFAR10DataModule(batch_size=32)"
   ]
  },
  {
   "cell_type": "code",
   "execution_count": 129,
   "id": "267fbdc5-927f-462d-8506-00bfcbe19111",
   "metadata": {},
   "outputs": [],
   "source": [
    "import numpy as np"
   ]
  },
  {
   "cell_type": "code",
   "execution_count": 137,
   "id": "4dcfa1a9-92f7-4ddc-939e-762e0316a8f1",
   "metadata": {},
   "outputs": [
    {
     "data": {
      "text/plain": [
       "Counter({6: 3, 9: 3, 4: 3, 1: 3, 2: 3, 7: 3, 8: 3, 3: 3, 5: 3, 0: 3})"
      ]
     },
     "execution_count": 137,
     "metadata": {},
     "output_type": "execute_result"
    }
   ],
   "source": [
    "Counter(np.array(mnist.trainset.targets)[np.array(list(subset_idx))])"
   ]
  },
  {
   "cell_type": "code",
   "execution_count": 138,
   "id": "0dcee389-5ea4-4d12-b43d-ca0d8c9caa60",
   "metadata": {},
   "outputs": [],
   "source": [
    "def setup_nshot(dm, n):\n",
    "    subset_ctr = Counter({k: 3 for k in mnist.classes})\n",
    "    subset_idx = set()\n",
    "    \n",
    "    ix = 0\n",
    "    while subset_ctr.total() > 0:\n",
    "        c = mnist.classes[mnist.trainset.targets[ix]]\n",
    "        if subset_ctr[c] > 0:\n",
    "            subset_ctr[c] -= 1\n",
    "            subset_idx.add(ix)\n",
    "        ix += 1\n",
    "\n",
    "    return list(subset_idx)"
   ]
  },
  {
   "cell_type": "code",
   "execution_count": 140,
   "id": "c40b730d-192f-45af-b81d-5e84c101f2fb",
   "metadata": {},
   "outputs": [
    {
     "data": {
      "text/plain": [
       "<torch.utils.data.dataset.Subset at 0x149ef28963d0>"
      ]
     },
     "execution_count": 140,
     "metadata": {},
     "output_type": "execute_result"
    }
   ],
   "source": [
    "Subset(mnist.trainset, setup_nshot(mnist, 2))"
   ]
  },
  {
   "cell_type": "code",
   "execution_count": 96,
   "id": "1d170368-b4a7-48e4-b08f-f8e641a5289a",
   "metadata": {},
   "outputs": [],
   "source": [
    "subset[mnist.classes[0]] += 1"
   ]
  },
  {
   "cell_type": "code",
   "execution_count": 93,
   "id": "47c5ef00-e8ce-411d-875b-4661bd19c2e5",
   "metadata": {},
   "outputs": [
    {
     "data": {
      "text/plain": [
       "{0, 1, 2, 3, 4, 5, 6, 7, 8, 9}"
      ]
     },
     "execution_count": 93,
     "metadata": {},
     "output_type": "execute_result"
    }
   ],
   "source": [
    "seen_classes"
   ]
  },
  {
   "cell_type": "code",
   "execution_count": 60,
   "id": "8a5b75ec-b9cf-49ad-bc63-355629538f92",
   "metadata": {},
   "outputs": [],
   "source": [
    "tl = mnist.train_dataloader()"
   ]
  },
  {
   "cell_type": "code",
   "execution_count": 66,
   "id": "d4aa43bc-6c55-4a9f-a702-ee96de6c3c06",
   "metadata": {},
   "outputs": [],
   "source": [
    "ys = []\n",
    "for x, y in tl:\n",
    "    ys.extend(y)\n",
    "ys = map(lambda x: x.item(), ys)"
   ]
  },
  {
   "cell_type": "code",
   "execution_count": 78,
   "id": "d88bfec1-5adc-4019-bf8a-127592a23f79",
   "metadata": {},
   "outputs": [
    {
     "data": {
      "text/plain": [
       "tensor([5, 0, 4,  ..., 5, 6, 8])"
      ]
     },
     "execution_count": 78,
     "metadata": {},
     "output_type": "execute_result"
    }
   ],
   "source": [
    "tl.dataset.dataset.targets"
   ]
  },
  {
   "cell_type": "code",
   "execution_count": 62,
   "id": "baf6b6e8-01a5-43d9-89e5-692557c1701f",
   "metadata": {},
   "outputs": [
    {
     "data": {
      "text/plain": [
       "tensor([0, 1, 2, 3, 4, 5, 6, 7, 8, 9])"
      ]
     },
     "execution_count": 62,
     "metadata": {},
     "output_type": "execute_result"
    }
   ],
   "source": [
    "torch.unique(torch.stack(ys))"
   ]
  },
  {
   "cell_type": "code",
   "execution_count": null,
   "id": "ae380cad-1431-4fb4-a1cf-8150a9e0435f",
   "metadata": {},
   "outputs": [],
   "source": []
  }
 ],
 "metadata": {
  "kernelspec": {
   "display_name": "Python 3 (ipykernel)",
   "language": "python",
   "name": "python3"
  },
  "language_info": {
   "codemirror_mode": {
    "name": "ipython",
    "version": 3
   },
   "file_extension": ".py",
   "mimetype": "text/x-python",
   "name": "python",
   "nbconvert_exporter": "python",
   "pygments_lexer": "ipython3",
   "version": "3.11.5"
  }
 },
 "nbformat": 4,
 "nbformat_minor": 5
}
