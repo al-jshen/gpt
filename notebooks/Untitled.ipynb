{
 "cells": [
  {
   "cell_type": "code",
   "execution_count": 1,
   "id": "56e10411-6c0a-40df-99df-d38de22fc12a",
   "metadata": {},
   "outputs": [],
   "source": [
    "%load_ext autoreload"
   ]
  },
  {
   "cell_type": "code",
   "execution_count": 291,
   "id": "8ddd85f9-e2a3-48f5-98ff-acb5c7188b58",
   "metadata": {},
   "outputs": [],
   "source": [
    "%autoreload\n",
    "import torch\n",
    "import torch.nn as nn\n",
    "import torchvision\n",
    "import numpy as np\n",
    "from gpt.model import ViT, Lambda, LightningWrapper\n",
    "from gpt.alt_model import ViT as AltViT\n",
    "from gpt.data import MNISTDataModule, CIFAR10DataModule\n",
    "from tqdm.auto import tqdm\n",
    "import lightning.pytorch as pl\n",
    "import matplotlib.pyplot as plt\n",
    "import torch.nn.functional as F\n",
    "import torchvision.transforms.functional as TF\n",
    "from rich.progress import track"
   ]
  },
  {
   "cell_type": "code",
   "execution_count": 256,
   "id": "57a995ee-caff-47d1-8812-43aeb08c2539",
   "metadata": {},
   "outputs": [],
   "source": [
    "mnist = MNISTDataModule(root_dir='/mnt/home/jshen/ceph/data/ml', num_workers=4, batch_size=8)\n",
    "mnist.setup()"
   ]
  },
  {
   "cell_type": "code",
   "execution_count": 280,
   "id": "0f1d79ef-5470-42f3-8dfb-e7bac78c04da",
   "metadata": {},
   "outputs": [],
   "source": [
    "tl = mnist.test_dataloader()"
   ]
  },
  {
   "cell_type": "code",
   "execution_count": 281,
   "id": "fea44718-6aa1-4f87-939f-e93a7e2a4903",
   "metadata": {},
   "outputs": [],
   "source": [
    "x, y = next(iter(tl))"
   ]
  },
  {
   "cell_type": "code",
   "execution_count": 259,
   "id": "2f999e44-bc68-4144-bb55-e3ac5b9701ff",
   "metadata": {},
   "outputs": [
    {
     "name": "stderr",
     "output_type": "stream",
     "text": [
      "/mnt/home/jshen/miniconda3/envs/main/lib/python3.11/site-packages/lightning/pytorch/utilities/parsing.py:198: Attribute 'output_head' is an instance of `nn.Module` and is already saved during checkpointing. It is recommended to ignore them using `self.save_hyperparameters(ignore=['output_head'])`.\n"
     ]
    }
   ],
   "source": [
    "model = LightningWrapper.load_from_checkpoint('../train/lightning_logs/version_2957798/checkpoints/epoch=32-step=3894.ckpt')"
   ]
  },
  {
   "cell_type": "code",
   "execution_count": 260,
   "id": "8174b65d-1837-4d5e-bc89-6fe8d541e38a",
   "metadata": {},
   "outputs": [],
   "source": [
    "# model.load_state_dict(state_dict)\n",
    "model.eval();\n",
    "model.freeze()"
   ]
  },
  {
   "cell_type": "code",
   "execution_count": 261,
   "id": "3bbfdfb3-adb8-4b0b-ae15-ec4e39050450",
   "metadata": {},
   "outputs": [],
   "source": [
    "def show(imgs, **kwargs):\n",
    "    if not isinstance(imgs, list):\n",
    "        imgs = [imgs]\n",
    "    fig, axs = plt.subplots(ncols=len(imgs), squeeze=False)\n",
    "    for i, img in enumerate(imgs):\n",
    "        img = img.detach()\n",
    "        img = TF.to_pil_image(img)\n",
    "        axs[0, i].imshow(np.asarray(img), **kwargs)\n",
    "        axs[0, i].set(xticklabels=[], yticklabels=[], xticks=[], yticks=[])"
   ]
  },
  {
   "cell_type": "code",
   "execution_count": 273,
   "id": "062cf1d4-9d3b-48fb-be38-e55a05b660c7",
   "metadata": {},
   "outputs": [
    {
     "data": {
      "text/plain": [
       "(None, tensor([5, 9, 0, 6, 9, 0, 1, 5]))"
      ]
     },
     "execution_count": 273,
     "metadata": {},
     "output_type": "execute_result"
    },
    {
     "data": {
      "image/png": "[encoded data removed]",
      "text/plain": [
       "<Figure size 640x480 with 1 Axes>"
      ]
     },
     "metadata": {},
     "output_type": "display_data"
    }
   ],
   "source": [
    "show(torchvision.utils.make_grid(x)), y"
   ]
  },
  {
   "cell_type": "code",
   "execution_count": 274,
   "id": "ebe3b8bc-bbe7-4c9f-9672-e3699be35026",
   "metadata": {},
   "outputs": [
    {
     "data": {
      "text/plain": [
       "torch.Size([8, 1, 28, 28])"
      ]
     },
     "execution_count": 274,
     "metadata": {},
     "output_type": "execute_result"
    }
   ],
   "source": [
    "x.shape"
   ]
  },
  {
   "cell_type": "code",
   "execution_count": 275,
   "id": "bec7a815-2f3d-4af3-b4da-161b009622d5",
   "metadata": {},
   "outputs": [],
   "source": []
  },
  {
   "cell_type": "code",
   "execution_count": 293,
   "id": "b15a59ab-aa81-42e4-9dd3-0d8948a598e3",
   "metadata": {},
   "outputs": [
    {
     "data": {
      "text/html": [
       "<pre style=\"white-space:pre;overflow-x:auto;line-height:normal;font-family:Menlo,'DejaVu Sans Mono',consolas,'Courier New',monospace\">Working... <span style=\"color: #729c1f; text-decoration-color: #729c1f\">━━━━━━━━━━━━━━━━━━━━━━━━━━━━━━━━━━━━━━━━</span> <span style=\"color: #800080; text-decoration-color: #800080\">100%</span> <span style=\"color: #808000; text-decoration-color: #808000\">0:03:32</span>\n",
       "</pre>\n"
      ],
      "text/plain": [
       "Working... \u001b[38;2;114;156;31m━━━━━━━━━━━━━━━━━━━━━━━━━━━━━━━━━━━━━━━━\u001b[0m \u001b[35m100%\u001b[0m \u001b[33m0:03:32\u001b[0m\n"
      ]
     },
     "metadata": {},
     "output_type": "display_data"
    },
    {
     "data": {
      "text/html": [
       "<pre style=\"white-space:pre;overflow-x:auto;line-height:normal;font-family:Menlo,'DejaVu Sans Mono',consolas,'Courier New',monospace\"></pre>\n"
      ],
      "text/plain": []
     },
     "metadata": {},
     "output_type": "display_data"
    },
    {
     "data": {
      "text/html": [
       "<pre style=\"white-space:pre;overflow-x:auto;line-height:normal;font-family:Menlo,'DejaVu Sans Mono',consolas,'Courier New',monospace\">\n",
       "</pre>\n"
      ],
      "text/plain": [
       "\n"
      ]
     },
     "metadata": {},
     "output_type": "display_data"
    }
   ],
   "source": [
    "score = 0\n",
    "total = 0\n",
    "for x, y in track(tl, total=len(tl)):\n",
    "    with torch.no_grad():\n",
    "        out = model(x)\n",
    "        pred = torch.argmax(out, 1)\n",
    "    score += torch.sum(pred == y)\n",
    "    total += x.shape[0]"
   ]
  },
  {
   "cell_type": "code",
   "execution_count": 294,
   "id": "f9a0409a-8289-47af-b30f-33e406b0ca3a",
   "metadata": {},
   "outputs": [
    {
     "data": {
      "text/plain": [
       "tensor(0.7829)"
      ]
     },
     "execution_count": 294,
     "metadata": {},
     "output_type": "execute_result"
    }
   ],
   "source": [
    "score / total"
   ]
  },
  {
   "cell_type": "code",
   "execution_count": null,
   "id": "4a90e3ce-30eb-4210-976d-dc8b8e99d01a",
   "metadata": {},
   "outputs": [],
   "source": []
  }
 ],
 "metadata": {
  "kernelspec": {
   "display_name": "main",
   "language": "python",
   "name": "main"
  },
  "language_info": {
   "codemirror_mode": {
    "name": "ipython",
    "version": 3
   },
   "file_extension": ".py",
   "mimetype": "text/x-python",
   "name": "python",
   "nbconvert_exporter": "python",
   "pygments_lexer": "ipython3",
   "version": "3.11.5"
  }
 },
 "nbformat": 4,
 "nbformat_minor": 5
}
