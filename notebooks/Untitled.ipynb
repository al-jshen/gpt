{
 "cells": [
  {
   "cell_type": "code",
   "execution_count": 1,
   "id": "4e00718f-0ca6-4e42-816c-7bc322aa9eed",
   "metadata": {},
   "outputs": [],
   "source": [
    "%load_ext autoreload"
   ]
  },
  {
   "cell_type": "code",
   "execution_count": 169,
   "id": "6ceacbe4-4305-494a-956a-29c966820f5e",
   "metadata": {},
   "outputs": [],
   "source": [
    "%autoreload\n",
    "import torch\n",
    "import matplotlib.pyplot as plt\n",
    "from gpt.data import MNISTDataModule, CIFAR10DataModule\n",
    "from collections import Counter\n",
    "from torch.utils.data import Subset, DataLoader\n",
    "import pickle"
   ]
  },
  {
   "cell_type": "code",
   "execution_count": 165,
   "id": "fd65359f-1f98-4f21-ad28-bd4ac4a88138",
   "metadata": {},
   "outputs": [],
   "source": [
    "mnist = CIFAR10DataModule(batch_size=32)"
   ]
  },
  {
   "cell_type": "code",
   "execution_count": 129,
   "id": "267fbdc5-927f-462d-8506-00bfcbe19111",
   "metadata": {},
   "outputs": [],
   "source": [
    "import numpy as np"
   ]
  },
  {
   "cell_type": "code",
   "execution_count": 137,
   "id": "4dcfa1a9-92f7-4ddc-939e-762e0316a8f1",
   "metadata": {},
   "outputs": [
    {
     "data": {
      "text/plain": [
       "Counter({6: 3, 9: 3, 4: 3, 1: 3, 2: 3, 7: 3, 8: 3, 3: 3, 5: 3, 0: 3})"
      ]
     },
     "execution_count": 137,
     "metadata": {},
     "output_type": "execute_result"
    }
   ],
   "source": [
    "Counter(np.array(mnist.trainset.targets)[np.array(list(subset_idx))])"
   ]
  },
  {
   "cell_type": "code",
   "execution_count": 138,
   "id": "0dcee389-5ea4-4d12-b43d-ca0d8c9caa60",
   "metadata": {},
   "outputs": [],
   "source": [
    "def setup_nshot(dm, n):\n",
    "    subset_ctr = Counter({k: 3 for k in mnist.classes})\n",
    "    subset_idx = set()\n",
    "    \n",
    "    ix = 0\n",
    "    while subset_ctr.total() > 0:\n",
    "        c = mnist.classes[mnist.trainset.targets[ix]]\n",
    "        if subset_ctr[c] > 0:\n",
    "            subset_ctr[c] -= 1\n",
    "            subset_idx.add(ix)\n",
    "        ix += 1\n",
    "\n",
    "    return list(subset_idx)"
   ]
  },
  {
   "cell_type": "code",
   "execution_count": 140,
   "id": "c40b730d-192f-45af-b81d-5e84c101f2fb",
   "metadata": {},
   "outputs": [
    {
     "data": {
      "text/plain": [
       "<torch.utils.data.dataset.Subset at 0x149ef28963d0>"
      ]
     },
     "execution_count": 140,
     "metadata": {},
     "output_type": "execute_result"
    }
   ],
   "source": [
    "Subset(mnist.trainset, setup_nshot(mnist, 2))"
   ]
  },
  {
   "cell_type": "code",
   "execution_count": 96,
   "id": "1d170368-b4a7-48e4-b08f-f8e641a5289a",
   "metadata": {},
   "outputs": [],
   "source": [
    "subset[mnist.classes[0]] += 1"
   ]
  },
  {
   "cell_type": "code",
   "execution_count": 93,
   "id": "47c5ef00-e8ce-411d-875b-4661bd19c2e5",
   "metadata": {},
   "outputs": [
    {
     "data": {
      "text/plain": [
       "{0, 1, 2, 3, 4, 5, 6, 7, 8, 9}"
      ]
     },
     "execution_count": 93,
     "metadata": {},
     "output_type": "execute_result"
    }
   ],
   "source": [
    "seen_classes"
   ]
  },
  {
   "cell_type": "code",
   "execution_count": 60,
   "id": "8a5b75ec-b9cf-49ad-bc63-355629538f92",
   "metadata": {},
   "outputs": [],
   "source": [
    "tl = mnist.train_dataloader()"
   ]
  },
  {
   "cell_type": "code",
   "execution_count": 66,
   "id": "d4aa43bc-6c55-4a9f-a702-ee96de6c3c06",
   "metadata": {},
   "outputs": [],
   "source": [
    "ys = []\n",
    "for x, y in tl:\n",
    "    ys.extend(y)\n",
    "ys = map(lambda x: x.item(), ys)"
   ]
  },
  {
   "cell_type": "code",
   "execution_count": 78,
   "id": "d88bfec1-5adc-4019-bf8a-127592a23f79",
   "metadata": {},
   "outputs": [
    {
     "data": {
      "text/plain": [
       "tensor([5, 0, 4,  ..., 5, 6, 8])"
      ]
     },
     "execution_count": 78,
     "metadata": {},
     "output_type": "execute_result"
    }
   ],
   "source": [
    "tl.dataset.dataset.targets"
   ]
  },
  {
   "cell_type": "code",
   "execution_count": 62,
   "id": "baf6b6e8-01a5-43d9-89e5-692557c1701f",
   "metadata": {},
   "outputs": [
    {
     "data": {
      "text/plain": [
       "tensor([0, 1, 2, 3, 4, 5, 6, 7, 8, 9])"
      ]
     },
     "execution_count": 62,
     "metadata": {},
     "output_type": "execute_result"
    }
   ],
   "source": [
    "torch.unique(torch.stack(ys))"
   ]
  },
  {
   "cell_type": "code",
   "execution_count": 170,
   "id": "ae380cad-1431-4fb4-a1cf-8150a9e0435f",
   "metadata": {},
   "outputs": [],
   "source": [
    "with open('/scratch/gpfs/js5013/data/desi/batches/batch_bright_102400-104448.pkl', 'rb') as f:\n",
    "    data = pickle.load(f)"
   ]
  },
  {
   "cell_type": "code",
   "execution_count": 171,
   "id": "8f07f937-605d-4991-90e4-18bfa152c20a",
   "metadata": {},
   "outputs": [
    {
     "data": {
      "text/plain": [
       "[array([[ 3.807316  , -1.6357474 , -2.9151888 , ...,  4.9664726 ,\n",
       "          5.4838347 ,  4.4018655 ],\n",
       "        [-4.1529794 , 10.857753  , 12.699032  , ...,  1.6575221 ,\n",
       "          1.3380166 ,  0.81630445],\n",
       "        [ 3.8241894 ,  8.8644705 , 12.688596  , ...,  1.5328159 ,\n",
       "          1.6082997 ,  1.4427842 ],\n",
       "        ...,\n",
       "        [15.7354145 , -0.35007486,  7.434158  , ...,  2.7656918 ,\n",
       "          3.2473943 ,  2.1283998 ],\n",
       "        [-5.2291813 , -7.6036277 , -9.241072  , ...,  0.36217168,\n",
       "         -1.0106484 , -0.36796662],\n",
       "        [46.456867  , 27.321129  , 21.284918  , ..., 13.632205  ,\n",
       "         13.542756  , 14.266201  ]], dtype=float32),\n",
       " array([[2.56778132e-02, 1.54531430e-02, 1.23821869e-02, ...,\n",
       "         3.35214233e+00, 4.58418655e+00, 6.74550581e+00],\n",
       "        [1.96600761e-02, 1.06136594e-02, 6.60039764e-03, ...,\n",
       "         1.93480647e+00, 2.43831444e+00, 4.51798487e+00],\n",
       "        [4.05302271e-02, 2.64908783e-02, 1.88435633e-02, ...,\n",
       "         7.12154579e+00, 7.47837543e+00, 1.08167877e+01],\n",
       "        ...,\n",
       "        [3.10237743e-02, 1.79447290e-02, 2.44715661e-02, ...,\n",
       "         4.78050327e+00, 6.55304241e+00, 8.14415932e+00],\n",
       "        [7.54624838e-03, 6.94730319e-03, 8.57611839e-03, ...,\n",
       "         2.64405727e+00, 3.16291809e+00, 4.06942558e+00],\n",
       "        [1.21883359e-02, 1.46126095e-02, 1.38417808e-02, ...,\n",
       "         1.91564751e+00, 2.10000706e+00, 1.95816159e+00]], dtype=float32),\n",
       " array([[ 1.7703328 ,  1.7723495 ,  1.7743806 , ...,  4.378893  ,\n",
       "          4.3795586 ,  4.3804483 ],\n",
       "        [ 0.63745767,  0.63583285,  0.63349587, ...,  1.5478003 ,\n",
       "          1.5496422 ,  1.5527408 ],\n",
       "        [ 1.7720003 ,  1.7684902 ,  1.7655926 , ...,  1.3943249 ,\n",
       "          1.3920081 ,  1.3888239 ],\n",
       "        ...,\n",
       "        [ 7.7028537 ,  7.700378  ,  7.731916  , ...,  2.97484   ,\n",
       "          2.9736626 ,  2.973036  ],\n",
       "        [-0.07050272, -0.07035287, -0.06886569, ...,  0.05046346,\n",
       "          0.0503701 ,  0.0501654 ],\n",
       "        [31.403355  , 31.166231  , 31.267553  , ..., 12.80211   ,\n",
       "         12.874803  , 12.895297  ]], dtype=float32),\n",
       " array([ 2.45959923e-01,  1.71013907e-01,  3.31081063e-01, ...,\n",
       "         2.04024705e-04,  1.34240353e+00, -4.17795294e-04]),\n",
       " array([1.28407846e-05, 2.64793325e-05, 6.65047673e-06, ...,\n",
       "        1.57068353e-05, 1.44289646e-04, 8.01934220e-06]),\n",
       " array([39632981354089262, 39632981354089053, 39632981354089782, ...,\n",
       "        39628449282786229,  1070780825731073, 39628449282786105]),\n",
       " array([1.12172967, 1.02128408, 1.0197473 , ..., 1.06956886, 0.9654501 ,\n",
       "        1.72576477]),\n",
       " array(['GALAXY', 'GALAXY', 'GALAXY', ..., 'STAR', 'GALAXY', 'STAR'],\n",
       "       dtype='<U6'),\n",
       " array(['', '', '', ..., 'F', '', 'A'], dtype='<U20'),\n",
       " array([0, 0, 0, ..., 0, 4, 0])]"
      ]
     },
     "execution_count": 171,
     "metadata": {},
     "output_type": "execute_result"
    }
   ],
   "source": [
    "data"
   ]
  },
  {
   "cell_type": "code",
   "execution_count": null,
   "id": "30736ab5-2b3e-4fdd-90b1-d6f180753fce",
   "metadata": {},
   "outputs": [],
   "source": []
  }
 ],
 "metadata": {
  "kernelspec": {
   "display_name": "Python 3 (ipykernel)",
   "language": "python",
   "name": "python3"
  },
  "language_info": {
   "codemirror_mode": {
    "name": "ipython",
    "version": 3
   },
   "file_extension": ".py",
   "mimetype": "text/x-python",
   "name": "python",
   "nbconvert_exporter": "python",
   "pygments_lexer": "ipython3",
   "version": "3.11.5"
  }
 },
 "nbformat": 4,
 "nbformat_minor": 5
}
