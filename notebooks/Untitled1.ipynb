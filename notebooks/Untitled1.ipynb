{
 "cells": [
  {
   "cell_type": "code",
   "execution_count": 1,
   "id": "cba125db-e168-41ca-9947-e89f9469267d",
   "metadata": {},
   "outputs": [],
   "source": [
    "%load_ext autoreload"
   ]
  },
  {
   "cell_type": "code",
   "execution_count": 3,
   "id": "fe332c84-4d37-4ff9-b60b-63c7f0213cb7",
   "metadata": {},
   "outputs": [],
   "source": [
    "%autoreload\n",
    "import torch\n",
    "from gpt.model import ViT, LightningWrapper"
   ]
  },
  {
   "cell_type": "code",
   "execution_count": null,
   "id": "af8b11a5-0543-4b9a-b93e-65b16bfc52af",
   "metadata": {},
   "outputs": [],
   "source": [
    "ViT("
   ]
  }
 ],
 "metadata": {
  "kernelspec": {
   "display_name": "foundation",
   "language": "python",
   "name": "foundation"
  },
  "language_info": {
   "codemirror_mode": {
    "name": "ipython",
    "version": 3
   },
   "file_extension": ".py",
   "mimetype": "text/x-python",
   "name": "python",
   "nbconvert_exporter": "python",
   "pygments_lexer": "ipython3",
   "version": "3.11.5"
  }
 },
 "nbformat": 4,
 "nbformat_minor": 5
}
