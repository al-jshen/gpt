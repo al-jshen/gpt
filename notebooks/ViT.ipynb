{
 "cells": [
  {
   "cell_type": "code",
   "execution_count": 1,
   "id": "56e10411-6c0a-40df-99df-d38de22fc12a",
   "metadata": {
    "tags": []
   },
   "outputs": [],
   "source": [
    "%load_ext autoreload"
   ]
  },
  {
   "cell_type": "code",
   "execution_count": 2,
   "id": "8ddd85f9-e2a3-48f5-98ff-acb5c7188b58",
   "metadata": {
    "tags": []
   },
   "outputs": [
    {
     "name": "stdout",
     "output_type": "stream",
     "text": [
      "[2024-01-29 13:45:56,647] [INFO] [real_accelerator.py:158:get_accelerator] Setting ds_accelerator to cuda (auto detect)\n"
     ]
    }
   ],
   "source": [
    "%autoreload\n",
    "import torch\n",
    "import torch.nn as nn\n",
    "import torchvision\n",
    "import numpy as np\n",
    "from gpt.model import ViT, Lambda, LightningWrapper, hMLP_stem, ClassificationHead\n",
    "from gpt.data import MNISTDataModule, CIFAR10DataModule, Galaxy10DataModule, ImagenetH5DataModule\n",
    "from tqdm.auto import tqdm\n",
    "import lightning.pytorch as pl\n",
    "import matplotlib.pyplot as plt\n",
    "import torch.nn.functional as F\n",
    "import torchvision.transforms.functional as TF\n",
    "import torchvision.transforms as transforms\n",
    "from rich.progress import track\n",
    "from einops.layers.torch import Rearrange\n",
    "from einops import rearrange, repeat, einsum"
   ]
  },
  {
   "cell_type": "code",
   "execution_count": 3,
   "id": "57a995ee-caff-47d1-8812-43aeb08c2539",
   "metadata": {
    "tags": []
   },
   "outputs": [],
   "source": [
    "# def collate(lop):\n",
    "#     x, y = zip(*lop)\n",
    "#     x = torch.stack(x)\n",
    "#     return x.view(-1, *x.shape[1:]), torch.tensor(y).unsqueeze(-1).repeat(1, x.shape[1]).view(-1).long()\n",
    "\n",
    "def collate(lop):\n",
    "    x, y = zip(*lop)\n",
    "    x = torch.stack(x)\n",
    "    y = torch.tensor(y)\n",
    "    print(x.shape)\n",
    "    ncrops = x.shape[1]\n",
    "    y = repeat(y, 'n -> n c', c=ncrops).ravel()\n",
    "    x = rearrange(x, 'b n c h w -> (b n) c h w')\n",
    "    return x, y\n",
    "\n",
    "mnist = MNISTDataModule(root_dir='/scratch/gpfs/js5013/data/ml', num_workers=1, batch_size=8, pin_memory=False)#, collate_fn_train=collate, extra_transforms=[transforms.FiveCrop(28), Lambda(torch.stack)])#, collate_fn=collate)\n",
    "mnist.setup()"
   ]
  },
  {
   "cell_type": "code",
   "execution_count": 4,
   "id": "bfd1e747-f8ad-4845-99be-75beb3252238",
   "metadata": {
    "tags": []
   },
   "outputs": [],
   "source": [
    "tl = mnist.test_dataloader()"
   ]
  },
  {
   "cell_type": "code",
   "execution_count": 5,
   "id": "fea44718-6aa1-4f87-939f-e93a7e2a4903",
   "metadata": {
    "tags": []
   },
   "outputs": [],
   "source": [
    "x, y = next(iter(tl))"
   ]
  },
  {
   "cell_type": "code",
   "execution_count": 6,
   "id": "2e92de55-9c35-40bb-b476-89111f1c27f2",
   "metadata": {
    "tags": []
   },
   "outputs": [
    {
     "data": {
      "text/plain": [
       "(torch.Size([8, 1, 28, 28]), torch.Size([8]))"
      ]
     },
     "execution_count": 6,
     "metadata": {},
     "output_type": "execute_result"
    }
   ],
   "source": [
    "x.shape, y.shape"
   ]
  },
  {
   "cell_type": "code",
   "execution_count": 24,
   "id": "2f999e44-bc68-4144-bb55-e3ac5b9701ff",
   "metadata": {
    "tags": []
   },
   "outputs": [
    {
     "name": "stderr",
     "output_type": "stream",
     "text": [
      "/scratch/gpfs/js5013/.conda/envs/foundation/lib/python3.11/site-packages/lightning/pytorch/utilities/parsing.py:198: Attribute 'output_head' is an instance of `nn.Module` and is already saved during checkpointing. It is recommended to ignore them using `self.save_hyperparameters(ignore=['output_head'])`.\n"
     ]
    }
   ],
   "source": [
    "ckpt = '../train/lightning_logs/version_0/checkpoints/epoch=4-step=9375.ckpt'\n",
    "model = LightningWrapper.load_from_checkpoint(ckpt, strict=False).cuda()\n",
    "# model.model.output_head = ClassificationHead(model.model.embed_dim, 10)\n",
    "# sd = torch.load(ckpt, map_location='cpu')\n",
    "# model.model.load_state_dict({k.replace('model.', ''): v for k, v in sd['state_dict'].items()})\n",
    "# model.freeze()"
   ]
  },
  {
   "cell_type": "code",
   "execution_count": 25,
   "id": "3bbfdfb3-adb8-4b0b-ae15-ec4e39050450",
   "metadata": {
    "tags": []
   },
   "outputs": [],
   "source": [
    "def show(imgs, **kwargs):\n",
    "    if not isinstance(imgs, list):\n",
    "        imgs = [imgs]\n",
    "    fig, axs = plt.subplots(ncols=len(imgs), squeeze=False)\n",
    "    for i, img in enumerate(imgs):\n",
    "        img = img.detach()\n",
    "        img = TF.to_pil_image(mnist.unnormalize(img))\n",
    "        axs[0, i].imshow(np.asarray(img), **kwargs)\n",
    "        axs[0, i].set(xticklabels=[], yticklabels=[], xticks=[], yticks=[])"
   ]
  },
  {
   "cell_type": "code",
   "execution_count": 26,
   "id": "062cf1d4-9d3b-48fb-be38-e55a05b660c7",
   "metadata": {
    "scrolled": true,
    "tags": []
   },
   "outputs": [
    {
     "data": {
      "text/plain": [
       "(None, tensor([9, 0, 1, 2, 3, 4, 5, 6]))"
      ]
     },
     "execution_count": 26,
     "metadata": {},
     "output_type": "execute_result"
    },
    {
     "data": {
      "image/png": "[encoded data removed]",
      "text/plain": [
       "<Figure size 640x480 with 1 Axes>"
      ]
     },
     "metadata": {},
     "output_type": "display_data"
    }
   ],
   "source": [
    "show(torchvision.utils.make_grid(x)), y# + torch.randn(x.shape) * torch.std(x, axis=(0, 2, 3), keepdim=True) * 0.0)), list(map(lambda i: mnist.classes[i], y))"
   ]
  },
  {
   "cell_type": "code",
   "execution_count": 27,
   "id": "98bdd5e4-b03a-4cb0-9b1b-9a9474c6e7a2",
   "metadata": {
    "tags": []
   },
   "outputs": [
    {
     "data": {
      "text/plain": [
       "tensor([9, 0, 1, 2, 3, 4, 5, 6], device='cuda:0')"
      ]
     },
     "execution_count": 27,
     "metadata": {},
     "output_type": "execute_result"
    }
   ],
   "source": [
    "torch.argmax(model(x.cuda()), axis=1)"
   ]
  },
  {
   "cell_type": "code",
   "execution_count": 28,
   "id": "b15a59ab-aa81-42e4-9dd3-0d8948a598e3",
   "metadata": {
    "tags": []
   },
   "outputs": [
    {
     "data": {
      "application/vnd.jupyter.widget-view+json": {
       "model_id": "5221e477f682403a9171b7c293c72997",
       "version_major": 2,
       "version_minor": 0
      },
      "text/plain": [
       "Output()"
      ]
     },
     "metadata": {},
     "output_type": "display_data"
    },
    {
     "data": {
      "text/html": [
       "<pre style=\"white-space:pre;overflow-x:auto;line-height:normal;font-family:Menlo,'DejaVu Sans Mono',consolas,'Courier New',monospace\"></pre>\n"
      ],
      "text/plain": []
     },
     "metadata": {},
     "output_type": "display_data"
    },
    {
     "data": {
      "text/html": [
       "<pre style=\"white-space:pre;overflow-x:auto;line-height:normal;font-family:Menlo,'DejaVu Sans Mono',consolas,'Courier New',monospace\">\n",
       "</pre>\n"
      ],
      "text/plain": [
       "\n"
      ]
     },
     "metadata": {},
     "output_type": "display_data"
    }
   ],
   "source": [
    "score = 0\n",
    "total = 0\n",
    "for x, y in track(tl, total=len(tl)):\n",
    "    with torch.no_grad():\n",
    "        out = model(x.cuda()).cpu()\n",
    "        pred = torch.argmax(out, 1)\n",
    "    score += torch.sum(pred == y)\n",
    "    total += x.shape[0]"
   ]
  },
  {
   "cell_type": "code",
   "execution_count": 29,
   "id": "ffc95f3c-2068-4b69-9a61-479b8707c40e",
   "metadata": {
    "tags": []
   },
   "outputs": [
    {
     "data": {
      "text/plain": [
       "tensor(0.9585)"
      ]
     },
     "execution_count": 29,
     "metadata": {},
     "output_type": "execute_result"
    }
   ],
   "source": [
    "score / total"
   ]
  },
  {
   "cell_type": "code",
   "execution_count": 18,
   "id": "6015016d-06ce-4d5e-9fec-82792f173a9d",
   "metadata": {
    "tags": []
   },
   "outputs": [],
   "source": [
    "def collate(lop):\n",
    "    x, _ = zip(*lop)\n",
    "    x = torch.stack(x)\n",
    "    return x\n",
    "\n",
    "cifar = CIFAR10DataModule(batch_size=4, num_workers=1, root_dir='/mnt/home/jshen/ceph/data/ml/')#, collate_fn=collate)\n",
    "cifar.setup()"
   ]
  },
  {
   "cell_type": "code",
   "execution_count": 19,
   "id": "6c9e2968-8ff0-4684-a2e2-1b50a524ddaa",
   "metadata": {
    "tags": []
   },
   "outputs": [],
   "source": [
    "tl = cifar.test_dataloader()"
   ]
  },
  {
   "cell_type": "code",
   "execution_count": 20,
   "id": "14a23980-d1b1-43af-81bf-bd1849d6ac3d",
   "metadata": {
    "tags": []
   },
   "outputs": [],
   "source": [
    "x, y = next(iter(tl))"
   ]
  },
  {
   "cell_type": "code",
   "execution_count": 21,
   "id": "4fc45bf3-94e7-4355-8fd8-0bf0065013a6",
   "metadata": {
    "tags": []
   },
   "outputs": [
    {
     "data": {
      "text/plain": [
       "(torch.Size([4, 3, 32, 32]), torch.Size([4]))"
      ]
     },
     "execution_count": 21,
     "metadata": {},
     "output_type": "execute_result"
    }
   ],
   "source": [
    "x.shape, y.shape"
   ]
  },
  {
   "cell_type": "code",
   "execution_count": 22,
   "id": "a7363361-3b44-452c-b88d-52e3b42a7029",
   "metadata": {
    "tags": []
   },
   "outputs": [
    {
     "data": {
      "text/html": [
       "<pre style=\"white-space:pre;overflow-x:auto;line-height:normal;font-family:Menlo,'DejaVu Sans Mono',consolas,'Courier New',monospace\">Working... <span style=\"color: #729c1f; text-decoration-color: #729c1f\">━━━━━━━━━━━━━━━━━━━━━━━━━━━━━━━━━━━━━━━━</span> <span style=\"color: #800080; text-decoration-color: #800080\">100%</span> <span style=\"color: #808000; text-decoration-color: #808000\">0:07:48</span>\n",
       "</pre>\n"
      ],
      "text/plain": [
       "Working... \u001b[38;2;114;156;31m━━━━━━━━━━━━━━━━━━━━━━━━━━━━━━━━━━━━━━━━\u001b[0m \u001b[35m100%\u001b[0m \u001b[33m0:07:48\u001b[0m\n"
      ]
     },
     "metadata": {},
     "output_type": "display_data"
    },
    {
     "data": {
      "text/html": [
       "<pre style=\"white-space:pre;overflow-x:auto;line-height:normal;font-family:Menlo,'DejaVu Sans Mono',consolas,'Courier New',monospace\"></pre>\n"
      ],
      "text/plain": []
     },
     "metadata": {},
     "output_type": "display_data"
    },
    {
     "data": {
      "text/html": [
       "<pre style=\"white-space:pre;overflow-x:auto;line-height:normal;font-family:Menlo,'DejaVu Sans Mono',consolas,'Courier New',monospace\">\n",
       "</pre>\n"
      ],
      "text/plain": [
       "\n"
      ]
     },
     "metadata": {},
     "output_type": "display_data"
    }
   ],
   "source": [
    "score = 0\n",
    "total = 0\n",
    "for x, y in track(tl, total=len(tl)):\n",
    "    with torch.no_grad():\n",
    "        out = model(x)\n",
    "        pred = torch.argmax(out, 1)\n",
    "    score += torch.sum(pred == y)\n",
    "    total += x.shape[0]"
   ]
  },
  {
   "cell_type": "code",
   "execution_count": 23,
   "id": "ad1ae232-62d9-45bc-93bc-a5d2e5e6e722",
   "metadata": {
    "tags": []
   },
   "outputs": [
    {
     "data": {
      "text/plain": [
       "tensor(0.7640)"
      ]
     },
     "execution_count": 23,
     "metadata": {},
     "output_type": "execute_result"
    }
   ],
   "source": [
    "score / total"
   ]
  },
  {
   "cell_type": "code",
   "execution_count": 3,
   "id": "5a309877-205f-4f4e-be8d-9e14022d19c1",
   "metadata": {
    "tags": []
   },
   "outputs": [],
   "source": [
    "LightningWrapperimage_channels=3, num_blocks=1, embed_dim=384, patch_size=(16, 16))"
   ]
  },
  {
   "cell_type": "code",
   "execution_count": 4,
   "id": "0a1908b9-b82c-4079-a6e1-63e989f1426a",
   "metadata": {
    "tags": []
   },
   "outputs": [
    {
     "data": {
      "text/plain": [
       "7.225088"
      ]
     },
     "execution_count": 4,
     "metadata": {},
     "output_type": "execute_result"
    }
   ],
   "source": [
    "v.nparams / 1e6"
   ]
  },
  {
   "cell_type": "code",
   "execution_count": 5,
   "id": "477e80db-5fc2-4522-be32-8a279383a195",
   "metadata": {
    "tags": []
   },
   "outputs": [],
   "source": [
    "x = torch.randn(4, 3, 64, 64)"
   ]
  },
  {
   "cell_type": "code",
   "execution_count": 6,
   "id": "d36960bb-9dae-4274-9a4b-80f6ac4c3619",
   "metadata": {
    "tags": []
   },
   "outputs": [
    {
     "data": {
      "text/plain": [
       "torch.Size([4, 16, 384])"
      ]
     },
     "execution_count": 6,
     "metadata": {},
     "output_type": "execute_result"
    }
   ],
   "source": [
    "v(x).shape"
   ]
  },
  {
   "cell_type": "code",
   "execution_count": 7,
   "id": "5f1b8d0a-4b60-434a-ad6e-a9ad60bcb9be",
   "metadata": {
    "tags": []
   },
   "outputs": [],
   "source": [
    "x = torch.randn(4, 3, 32, 32)"
   ]
  },
  {
   "cell_type": "code",
   "execution_count": 8,
   "id": "ad023705-925a-4a62-9acf-9fa9c01b8bb1",
   "metadata": {
    "tags": []
   },
   "outputs": [
    {
     "data": {
      "text/plain": [
       "torch.Size([4, 4, 384])"
      ]
     },
     "execution_count": 8,
     "metadata": {},
     "output_type": "execute_result"
    }
   ],
   "source": [
    "v(x).shape"
   ]
  },
  {
   "cell_type": "code",
   "execution_count": null,
   "id": "1ba3bf20-de6b-49a0-96cd-725db8a57d53",
   "metadata": {},
   "outputs": [],
   "source": []
  }
 ],
 "metadata": {
  "kernelspec": {
   "display_name": "Python 3 (ipykernel)",
   "language": "python",
   "name": "python3"
  },
  "language_info": {
   "codemirror_mode": {
    "name": "ipython",
    "version": 3
   },
   "file_extension": ".py",
   "mimetype": "text/x-python",
   "name": "python",
   "nbconvert_exporter": "python",
   "pygments_lexer": "ipython3",
   "version": "3.11.5"
  }
 },
 "nbformat": 4,
 "nbformat_minor": 5
}
