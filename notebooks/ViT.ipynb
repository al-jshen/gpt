{
 "cells": [
  {
   "cell_type": "code",
   "execution_count": 173,
   "id": "56e10411-6c0a-40df-99df-d38de22fc12a",
   "metadata": {},
   "outputs": [
    {
     "name": "stdout",
     "output_type": "stream",
     "text": [
      "The autoreload extension is already loaded. To reload it, use:\n",
      "  %reload_ext autoreload\n"
     ]
    }
   ],
   "source": [
    "%load_ext autoreload"
   ]
  },
  {
   "cell_type": "code",
   "execution_count": 174,
   "id": "8ddd85f9-e2a3-48f5-98ff-acb5c7188b58",
   "metadata": {},
   "outputs": [],
   "source": [
    "%autoreload\n",
    "import torch\n",
    "import torch.nn as nn\n",
    "import torchvision\n",
    "import numpy as np\n",
    "from gpt.model import ViT, Lambda, LightningWrapper\n",
    "from gpt.data import MNISTDataModule, CIFAR10DataModule, AddGaussianNoise\n",
    "from tqdm.auto import tqdm\n",
    "import lightning.pytorch as pl\n",
    "import matplotlib.pyplot as plt\n",
    "import torch.nn.functional as F\n",
    "import torchvision.transforms.functional as TF\n",
    "from rich.progress import track"
   ]
  },
  {
   "cell_type": "code",
   "execution_count": 175,
   "id": "57a995ee-caff-47d1-8812-43aeb08c2539",
   "metadata": {},
   "outputs": [],
   "source": [
    "mnist = MNISTDataModule(root_dir='/scratch/gpfs/js5013/data/ml/', num_workers=4, batch_size=8, pin_memory=True)\n",
    "mnist.setup()"
   ]
  },
  {
   "cell_type": "code",
   "execution_count": 176,
   "id": "0f1d79ef-5470-42f3-8dfb-e7bac78c04da",
   "metadata": {},
   "outputs": [],
   "source": [
    "tl = mnist.test_dataloader()"
   ]
  },
  {
   "cell_type": "code",
   "execution_count": 178,
   "id": "fea44718-6aa1-4f87-939f-e93a7e2a4903",
   "metadata": {},
   "outputs": [],
   "source": [
    "x, y = next(iter(tl))"
   ]
  },
  {
   "cell_type": "code",
   "execution_count": 177,
   "id": "2f999e44-bc68-4144-bb55-e3ac5b9701ff",
   "metadata": {},
   "outputs": [
    {
     "name": "stderr",
     "output_type": "stream",
     "text": [
      "/scratch/gpfs/js5013/.conda/envs/foundation/lib/python3.11/site-packages/lightning/pytorch/utilities/parsing.py:198: Attribute 'checkpoint' is an instance of `nn.Module` and is already saved during checkpointing. It is recommended to ignore them using `self.save_hyperparameters(ignore=['checkpoint'])`.\n"
     ]
    }
   ],
   "source": [
    "model = LightningWrapper.load_from_checkpoint('../train/lightning_logs/version_1031284/checkpoints/epoch=29-step=7050.ckpt', map_location='cuda:1')\n",
    "model.freeze()"
   ]
  },
  {
   "cell_type": "code",
   "execution_count": 179,
   "id": "3bbfdfb3-adb8-4b0b-ae15-ec4e39050450",
   "metadata": {},
   "outputs": [],
   "source": [
    "def show(imgs, **kwargs):\n",
    "    if not isinstance(imgs, list):\n",
    "        imgs = [imgs]\n",
    "    fig, axs = plt.subplots(ncols=len(imgs), squeeze=False)\n",
    "    for i, img in enumerate(imgs):\n",
    "        img = img.detach()\n",
    "        img = TF.to_pil_image(img)\n",
    "        axs[0, i].imshow(np.asarray(img), **kwargs)\n",
    "        axs[0, i].set(xticklabels=[], yticklabels=[], xticks=[], yticks=[])"
   ]
  },
  {
   "cell_type": "code",
   "execution_count": 180,
   "id": "062cf1d4-9d3b-48fb-be38-e55a05b660c7",
   "metadata": {},
   "outputs": [
    {
     "data": {
      "image/png": "[encoded data removed]",
      "text/plain": [
       "<Figure size 640x480 with 1 Axes>"
      ]
     },
     "metadata": {},
     "output_type": "display_data"
    }
   ],
   "source": [
    "show(torchvision.utils.make_grid(x))# + torch.randn(x.shape) * torch.std(x, axis=(0, 2, 3), keepdim=True) * 0.0)), list(map(lambda i: mnist.classes[i], y))"
   ]
  },
  {
   "cell_type": "code",
   "execution_count": 187,
   "id": "98bdd5e4-b03a-4cb0-9b1b-9a9474c6e7a2",
   "metadata": {
    "tags": []
   },
   "outputs": [
    {
     "data": {
      "text/plain": [
       "tensor([7, 2, 1, 0, 4, 1, 4, 9], device='cuda:1')"
      ]
     },
     "execution_count": 187,
     "metadata": {},
     "output_type": "execute_result"
    }
   ],
   "source": [
    "torch.argmax(model(x.cuda(1)), axis=1)"
   ]
  },
  {
   "cell_type": "code",
   "execution_count": 189,
   "id": "b15a59ab-aa81-42e4-9dd3-0d8948a598e3",
   "metadata": {},
   "outputs": [
    {
     "data": {
      "application/vnd.jupyter.widget-view+json": {
       "model_id": "d11c2f65f73f452a81e41c3eb3da337e",
       "version_major": 2,
       "version_minor": 0
      },
      "text/plain": [
       "Output()"
      ]
     },
     "metadata": {},
     "output_type": "display_data"
    },
    {
     "data": {
      "text/html": [
       "<pre style=\"white-space:pre;overflow-x:auto;line-height:normal;font-family:Menlo,'DejaVu Sans Mono',consolas,'Courier New',monospace\"></pre>\n"
      ],
      "text/plain": []
     },
     "metadata": {},
     "output_type": "display_data"
    },
    {
     "data": {
      "text/html": [
       "<pre style=\"white-space:pre;overflow-x:auto;line-height:normal;font-family:Menlo,'DejaVu Sans Mono',consolas,'Courier New',monospace\">\n",
       "</pre>\n"
      ],
      "text/plain": [
       "\n"
      ]
     },
     "metadata": {},
     "output_type": "display_data"
    }
   ],
   "source": [
    "score = 0\n",
    "total = 0\n",
    "for x, y in track(tl, total=len(tl)):\n",
    "    with torch.no_grad():\n",
    "        out = model(x.cuda(1))\n",
    "        pred = torch.argmax(out, 1).cpu()\n",
    "    score += torch.sum(pred == y)\n",
    "    total += x.shape[0]"
   ]
  },
  {
   "cell_type": "code",
   "execution_count": 190,
   "id": "f9a0409a-8289-47af-b30f-33e406b0ca3a",
   "metadata": {},
   "outputs": [
    {
     "data": {
      "text/plain": [
       "tensor(0.9816)"
      ]
     },
     "execution_count": 190,
     "metadata": {},
     "output_type": "execute_result"
    }
   ],
   "source": [
    "score / total"
   ]
  },
  {
   "cell_type": "code",
   "execution_count": 140,
   "id": "6015016d-06ce-4d5e-9fec-82792f173a9d",
   "metadata": {},
   "outputs": [],
   "source": [
    "def collate(lop):\n",
    "    x, _ = zip(*lop)\n",
    "    x = torch.stack(x)\n",
    "    return x, x\n",
    "    \n",
    "cifar = CIFAR10DataModule(batch_size=64, collate_fn=collate, root_dir='/scratch/gpfs/js5013/data/ml/')\n",
    "cifar.setup()"
   ]
  },
  {
   "cell_type": "code",
   "execution_count": 141,
   "id": "6c9e2968-8ff0-4684-a2e2-1b50a524ddaa",
   "metadata": {},
   "outputs": [],
   "source": [
    "tl = cifar.test_dataloader()"
   ]
  },
  {
   "cell_type": "code",
   "execution_count": 142,
   "id": "14a23980-d1b1-43af-81bf-bd1849d6ac3d",
   "metadata": {},
   "outputs": [],
   "source": [
    "x, y = next(iter(tl))"
   ]
  },
  {
   "cell_type": "code",
   "execution_count": 143,
   "id": "4fc45bf3-94e7-4355-8fd8-0bf0065013a6",
   "metadata": {},
   "outputs": [
    {
     "data": {
      "text/plain": [
       "torch.Size([64, 3, 32, 32])"
      ]
     },
     "execution_count": 143,
     "metadata": {},
     "output_type": "execute_result"
    }
   ],
   "source": [
    "x.shape"
   ]
  },
  {
   "cell_type": "code",
   "execution_count": 144,
   "id": "a7363361-3b44-452c-b88d-52e3b42a7029",
   "metadata": {},
   "outputs": [
    {
     "data": {
      "text/plain": [
       "torch.Size([64, 3, 32, 32])"
      ]
     },
     "execution_count": 144,
     "metadata": {},
     "output_type": "execute_result"
    }
   ],
   "source": [
    "y.shape"
   ]
  },
  {
   "cell_type": "code",
   "execution_count": null,
   "id": "ad1ae232-62d9-45bc-93bc-a5d2e5e6e722",
   "metadata": {},
   "outputs": [],
   "source": []
  }
 ],
 "metadata": {
  "kernelspec": {
   "display_name": "Python 3 (ipykernel)",
   "language": "python",
   "name": "python3"
  },
  "language_info": {
   "codemirror_mode": {
    "name": "ipython",
    "version": 3
   },
   "file_extension": ".py",
   "mimetype": "text/x-python",
   "name": "python",
   "nbconvert_exporter": "python",
   "pygments_lexer": "ipython3",
   "version": "3.11.5"
  }
 },
 "nbformat": 4,
 "nbformat_minor": 5
}
