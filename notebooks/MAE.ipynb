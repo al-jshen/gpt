{
 "cells": [
  {
   "cell_type": "code",
   "execution_count": 3,
   "id": "3cb870e3-ad4b-4343-847c-dd57edc87097",
   "metadata": {},
   "outputs": [],
   "source": [
    "%load_ext autoreload"
   ]
  },
  {
   "cell_type": "code",
   "execution_count": 17,
   "id": "a4188163-fc15-41cf-a4cd-d6f276352ce7",
   "metadata": {},
   "outputs": [],
   "source": [
    "%autoreload\n",
    "import numpy as np\n",
    "import matplotlib.pyplot as plt\n",
    "import lightning as pl\n",
    "from gpt.model import ViT, LightningMAE, MAE, LightningWrapper, ClassificationHead\n",
    "from gpt.data import MNISTDataModule, CIFAR10DataModule, AddGaussianNoise\n",
    "from gpt.utils import unpatchify\n",
    "import torch\n",
    "import torch.optim as optim\n",
    "import torch.nn as nn\n",
    "import torch.nn.functional as F\n",
    "import torchvision.transforms.functional as TF\n",
    "import torchvision\n",
    "from tqdm.auto import tqdm\n",
    "from einops import rearrange\n",
    "import matplotlib"
   ]
  },
  {
   "cell_type": "code",
   "execution_count": 579,
   "id": "2c60b503-e6d5-46ab-b8ac-8a4a67d245ee",
   "metadata": {},
   "outputs": [],
   "source": [
    "_model = model.vit\n",
    "_model.output_head = ClassificationHead(_model.embed_dim, 10)"
   ]
  },
  {
   "cell_type": "code",
   "execution_count": 6,
   "id": "99f7a56f-894c-453c-8eeb-059918a1d111",
   "metadata": {},
   "outputs": [],
   "source": [
    "_model = LightningWrapper(\n",
    "    ViT,\n",
    "    image_size=(28, 28),\n",
    "    patch_size=(2, 2),\n",
    "    image_channels=1,\n",
    "    embed_dim=256, mlp_dim=1024, num_heads=8, num_blocks=2, parallel_paths=2, dropout=0.1, lr=1e-3, loss_fn=F.mse_loss\n",
    ")"
   ]
  },
  {
   "cell_type": "code",
   "execution_count": 10,
   "id": "07ff8fea-dabd-437d-b8d1-9cf7166bdc64",
   "metadata": {},
   "outputs": [
    {
     "name": "stderr",
     "output_type": "stream",
     "text": [
      "/scratch/gpfs/js5013/.conda/envs/foundation/lib/python3.11/site-packages/lightning/pytorch/utilities/parsing.py:198: Attribute 'vit' is an instance of `nn.Module` and is already saved during checkpointing. It is recommended to ignore them using `self.save_hyperparameters(ignore=['vit'])`.\n"
     ]
    }
   ],
   "source": [
    "model = LightningWrapper(\n",
    "    LightningMAE,\n",
    "    vit=_model.model,\n",
    "    masking_fraction=0.8,\n",
    "    decoder_num_blocks=1,\n",
    "    lr=1e-3,\n",
    "    loss_fn=F.mse_loss\n",
    ")"
   ]
  },
  {
   "cell_type": "code",
   "execution_count": 16,
   "id": "50fbcd2d-d63b-4048-9ddf-b5618911e768",
   "metadata": {},
   "outputs": [
    {
     "data": {
      "text/plain": [
       "False"
      ]
     },
     "execution_count": 16,
     "metadata": {},
     "output_type": "execute_result"
    }
   ],
   "source": [
    "model.model.logging"
   ]
  },
  {
   "cell_type": "code",
   "execution_count": 570,
   "id": "b1272283-2de4-4c62-9761-287edb70b49a",
   "metadata": {},
   "outputs": [
    {
     "data": {
      "text/plain": [
       "512"
      ]
     },
     "execution_count": 570,
     "metadata": {},
     "output_type": "execute_result"
    }
   ],
   "source": [
    "mm.sh"
   ]
  },
  {
   "cell_type": "code",
   "execution_count": 18,
   "id": "71aa8ad5-d2f1-42ca-9180-f0ef6b60e75c",
   "metadata": {},
   "outputs": [
    {
     "name": "stderr",
     "output_type": "stream",
     "text": [
      "/scratch/gpfs/js5013/.conda/envs/foundation/lib/python3.11/site-packages/lightning/pytorch/utilities/parsing.py:198: Attribute 'vit' is an instance of `nn.Module` and is already saved during checkpointing. It is recommended to ignore them using `self.save_hyperparameters(ignore=['vit'])`.\n"
     ]
    }
   ],
   "source": [
    "model = LightningWrapper.load_from_checkpoint('../train/lightning_logs/version_1031714/checkpoints/epoch=29-step=11730.ckpt', map_location='cuda:1')"
   ]
  },
  {
   "cell_type": "code",
   "execution_count": 409,
   "id": "98cbf74c-67cd-448e-a918-f29ebaad4471",
   "metadata": {},
   "outputs": [],
   "source": [
    "def collate(lop):\n",
    "    x, _ = zip(*lop)\n",
    "    x = torch.stack(x)\n",
    "    return x\n",
    "mnist = MNISTDataModule(root_dir='/scratch/gpfs/js5013/data/ml/', num_workers=4, batch_size=32, collate_fn=collate)\n",
    "mnist.setup()\n",
    "tl = mnist.train_dataloader()"
   ]
  },
  {
   "cell_type": "code",
   "execution_count": 80,
   "id": "9b042254-071e-4cb9-8b3b-871c9352ba94",
   "metadata": {},
   "outputs": [],
   "source": [
    "x = next(iter(tl))"
   ]
  },
  {
   "cell_type": "code",
   "execution_count": 81,
   "id": "84fa9f5e-32a4-4f8d-87da-209ce60b5479",
   "metadata": {},
   "outputs": [],
   "source": [
    "def show(imgs, ncols=None, **kwargs):\n",
    "    if not isinstance(imgs, list):\n",
    "        imgs = [imgs]\n",
    "    fig, axs = plt.subplots(ncols=len(imgs) if ncols is None else ncols, squeeze=False)\n",
    "    for i, img in enumerate(imgs):\n",
    "        img = img.detach()\n",
    "        img = TF.to_pil_image(img)\n",
    "        axs[0, i].imshow(np.asarray(img), **kwargs)\n",
    "        axs[0, i].set(xticklabels=[], yticklabels=[], xticks=[], yticks=[])"
   ]
  },
  {
   "cell_type": "code",
   "execution_count": 82,
   "id": "3492d693-f528-43e9-8814-616552e02c61",
   "metadata": {},
   "outputs": [
    {
     "data": {
      "image/png": "[encoded data removed]",
      "text/plain": [
       "<Figure size 640x480 with 1 Axes>"
      ]
     },
     "metadata": {},
     "output_type": "display_data"
    }
   ],
   "source": [
    "show(torchvision.utils.make_grid(x))"
   ]
  },
  {
   "cell_type": "code",
   "execution_count": 6,
   "id": "149ece7e-499e-47e2-bb1c-130b4b060860",
   "metadata": {},
   "outputs": [],
   "source": [
    "optimizer = optim.Adam(model.parameters(), lr=1e-3)"
   ]
  },
  {
   "cell_type": "code",
   "execution_count": 8,
   "id": "24980775-2590-4de9-8bf1-7aed7a50a79e",
   "metadata": {},
   "outputs": [
    {
     "data": {
      "application/vnd.jupyter.widget-view+json": {
       "model_id": "e13913e790184ff1ad4a38710347ab45",
       "version_major": 2,
       "version_minor": 0
      },
      "text/plain": [
       "  0%|          | 0/1875 [00:00<?, ?it/s]"
      ]
     },
     "metadata": {},
     "output_type": "display_data"
    }
   ],
   "source": [
    "bix = torch.arange(32, dtype=int).unsqueeze(-1)\n",
    "\n",
    "for x in (pbar := tqdm(tl)):\n",
    "    optimizer.zero_grad()\n",
    "    mp, omp, mask_idx = model(x.to('cuda:1'))\n",
    "    \n",
    "    loss = F.mse_loss(mp[bix, mask_idx], omp[bix, mask_idx])\n",
    "    loss.backward()\n",
    "    nn.utils.clip_grad_norm_(model.parameters(), 1.)\n",
    "    optimizer.step()\n",
    "    pbar.set_description(f\"loss: {loss.item():.3f}\")"
   ]
  },
  {
   "cell_type": "code",
   "execution_count": 337,
   "id": "181c5642-bb73-46b2-8b2a-76f5ff9c666a",
   "metadata": {},
   "outputs": [],
   "source": [
    "tll = mnist.test_dataloader()"
   ]
  },
  {
   "cell_type": "code",
   "execution_count": 585,
   "id": "798905e0-c80d-41c3-b8a1-a2a30146d41a",
   "metadata": {},
   "outputs": [],
   "source": [
    "x = next(iter(tll))\n",
    "\n",
    "with torch.no_grad():\n",
    "    mp, omp, mask_idx = model(x.to('cuda:1'))"
   ]
  },
  {
   "cell_type": "code",
   "execution_count": 586,
   "id": "e0ac0351-ca37-420a-9146-8ad473898b91",
   "metadata": {},
   "outputs": [],
   "source": [
    "p2i = lambda x: mnist.unnormalize(x)[0]"
   ]
  },
  {
   "cell_type": "code",
   "execution_count": 630,
   "id": "15a47ac2-728f-4790-b550-e2eff3d78263",
   "metadata": {},
   "outputs": [],
   "source": [
    "ix = 16\n",
    "oo = omp[ix].detach().cpu()\n",
    "img_true = unpatchify(mp[ix].detach().cpu(), 1)\n",
    "img = unpatchify(oo, 1)"
   ]
  },
  {
   "cell_type": "code",
   "execution_count": 631,
   "id": "19e435f9-c454-4b94-95c3-cb9a6540f02a",
   "metadata": {},
   "outputs": [],
   "source": [
    "img_masked = mp[ix].detach().clone()\n",
    "img_masked[mask_idx[ix]] = torch.nan\n",
    "img_masked = unpatchify(img_masked, 1)"
   ]
  },
  {
   "cell_type": "code",
   "execution_count": 632,
   "id": "bbf89f9c-ea8f-49dc-8172-6ed8825b6032",
   "metadata": {},
   "outputs": [
    {
     "data": {
      "text/plain": [
       "<matplotlib.image.AxesImage at 0x14ee2d114dd0>"
      ]
     },
     "execution_count": 632,
     "metadata": {},
     "output_type": "execute_result"
    },
    {
     "data": {
      "image/png": "[encoded data removed]",
      "text/plain": [
       "<Figure size 1500x500 with 3 Axes>"
      ]
     },
     "metadata": {},
     "output_type": "display_data"
    }
   ],
   "source": [
    "fig, ax = plt.subplots(1, 3, figsize=(15, 5))\n",
    "cmap = matplotlib.cm.gray\n",
    "cmap.set_bad('red', 1.)\n",
    "ax[0].imshow(p2i(img_true), cmap=cmap)\n",
    "ax[1].imshow(p2i(img_masked.detach().cpu()), cmap=cmap)\n",
    "ax[2].imshow(p2i(img), cmap=cmap)"
   ]
  },
  {
   "cell_type": "code",
   "execution_count": 19,
   "id": "c562de77-79d1-451f-b453-ff0d0e3062d7",
   "metadata": {},
   "outputs": [],
   "source": [
    "cifar = CIFAR10DataModule(batch_size=64)"
   ]
  },
  {
   "cell_type": "code",
   "execution_count": 20,
   "id": "94b9d3be-bac3-4cad-ba9d-5b4fb4374652",
   "metadata": {},
   "outputs": [],
   "source": [
    "cifar.setup()"
   ]
  },
  {
   "cell_type": "code",
   "execution_count": 21,
   "id": "a6b86270-57db-44c8-b6ef-c1d21fdb00a6",
   "metadata": {},
   "outputs": [],
   "source": [
    "tl = cifar.test_dataloader()"
   ]
  },
  {
   "cell_type": "code",
   "execution_count": 22,
   "id": "4c7b0929-360a-41d1-8862-52b0e2d7cc04",
   "metadata": {},
   "outputs": [],
   "source": [
    "x, y = next(iter(tl))"
   ]
  },
  {
   "cell_type": "code",
   "execution_count": 23,
   "id": "1de96eea-25b7-4347-9438-f59616437844",
   "metadata": {},
   "outputs": [],
   "source": [
    "with torch.no_grad():\n",
    "    mp, omp, mask_idx = model(x.to('cuda:1'))"
   ]
  },
  {
   "cell_type": "code",
   "execution_count": 24,
   "id": "2749d7b8-bea3-4173-81ff-24c5bea71933",
   "metadata": {},
   "outputs": [],
   "source": [
    "p2i = lambda x: TF.to_pil_image(cifar.unnormalize(x))"
   ]
  },
  {
   "cell_type": "code",
   "execution_count": 58,
   "id": "2edd2da7-5072-4c71-a7c5-8ef82fc7fb58",
   "metadata": {},
   "outputs": [],
   "source": [
    "ix = 19\n",
    "oo = omp[ix].detach().cpu()\n",
    "img_true = unpatchify(mp[ix].detach().cpu(), 3)\n",
    "img = unpatchify(oo, 3)"
   ]
  },
  {
   "cell_type": "code",
   "execution_count": 59,
   "id": "b263e636-475a-427f-b9ae-7afc73120849",
   "metadata": {},
   "outputs": [],
   "source": [
    "img_masked = mp[ix].detach().clone()\n",
    "img_masked[mask_idx[ix]] = torch.nan\n",
    "img_masked = unpatchify(img_masked, 3)"
   ]
  },
  {
   "cell_type": "code",
   "execution_count": 60,
   "id": "ed7fa2af-794f-4069-8eac-cff50714ba61",
   "metadata": {},
   "outputs": [
    {
     "data": {
      "text/plain": [
       "<matplotlib.image.AxesImage at 0x148dc47ba850>"
      ]
     },
     "execution_count": 60,
     "metadata": {},
     "output_type": "execute_result"
    },
    {
     "data": {
      "image/png": "[encoded data removed]",
      "text/plain": [
       "<Figure size 1500x500 with 3 Axes>"
      ]
     },
     "metadata": {},
     "output_type": "display_data"
    }
   ],
   "source": [
    "fig, ax = plt.subplots(1, 3, figsize=(15, 5))\n",
    "ax[0].imshow(p2i(img_true))\n",
    "ax[1].imshow(p2i(img_masked))\n",
    "ax[2].imshow(p2i(img))"
   ]
  },
  {
   "cell_type": "code",
   "execution_count": null,
   "id": "3c5fff60-30b7-4771-8872-9a4f99a1fbaf",
   "metadata": {},
   "outputs": [],
   "source": []
  }
 ],
 "metadata": {
  "kernelspec": {
   "display_name": "Python 3 (ipykernel)",
   "language": "python",
   "name": "python3"
  },
  "language_info": {
   "codemirror_mode": {
    "name": "ipython",
    "version": 3
   },
   "file_extension": ".py",
   "mimetype": "text/x-python",
   "name": "python",
   "nbconvert_exporter": "python",
   "pygments_lexer": "ipython3",
   "version": "3.11.5"
  }
 },
 "nbformat": 4,
 "nbformat_minor": 5
}
